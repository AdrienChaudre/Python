{
 "cells": [
  {
   "cell_type": "code",
   "execution_count": 1,
   "metadata": {
    "collapsed": true
   },
   "outputs": [],
   "source": [
    "import pandas as pd\n",
    "import numpy as np"
   ]
  },
  {
   "cell_type": "code",
   "execution_count": 61,
   "metadata": {
    "collapsed": false
   },
   "outputs": [
    {
     "data": {
      "text/html": [
       "<div>\n",
       "<table border=\"1\" class=\"dataframe\">\n",
       "  <thead>\n",
       "    <tr style=\"text-align: right;\">\n",
       "      <th></th>\n",
       "      <th>Departement</th>\n",
       "      <th>Valeur</th>\n",
       "    </tr>\n",
       "  </thead>\n",
       "  <tbody>\n",
       "    <tr>\n",
       "      <th>BDTN</th>\n",
       "      <td>TIC</td>\n",
       "      <td>Big Data pour La Transformation Numerique</td>\n",
       "    </tr>\n",
       "    <tr>\n",
       "      <th>IAIR</th>\n",
       "      <td>TIC</td>\n",
       "      <td>Ingénieur d Affaire Informatique et Réseaux</td>\n",
       "    </tr>\n",
       "    <tr>\n",
       "      <th>ISN</th>\n",
       "      <td>TIC</td>\n",
       "      <td>Inginerie des Systèmes Numériques</td>\n",
       "    </tr>\n",
       "    <tr>\n",
       "      <th>ISYMED</th>\n",
       "      <td>SEI</td>\n",
       "      <td>Inginerie des Systèmes Médicaux</td>\n",
       "    </tr>\n",
       "  </tbody>\n",
       "</table>\n",
       "</div>"
      ],
      "text/plain": [
       "       Departement                                       Valeur\n",
       "BDTN           TIC    Big Data pour La Transformation Numerique\n",
       "IAIR           TIC  Ingénieur d Affaire Informatique et Réseaux\n",
       "ISN            TIC            Inginerie des Systèmes Numériques\n",
       "ISYMED         SEI              Inginerie des Systèmes Médicaux"
      ]
     },
     "execution_count": 61,
     "metadata": {},
     "output_type": "execute_result"
    }
   ],
   "source": [
    "dom1 = pd.Series({'Valeur': 'Big Data pour La Transformation Numerique',\n",
    "                        'Departement': 'TIC'})\n",
    "dom2 = pd.Series({'Valeur': 'Ingénieur d Affaire Informatique et Réseaux',\n",
    "                        'Departement': 'TIC'})\n",
    "dom3 = pd.Series({'Valeur': 'Inginerie des Systèmes Numériques',\n",
    "                        'Departement': 'TIC'})\n",
    "dom4 = pd.Series({'Valeur': 'Inginerie des Systèmes Médicaux',\n",
    "                        'Departement': 'SEI'})\n",
    "df = pd.DataFrame([dom1, dom2, dom3, dom4], index=['BDTN', 'IAIR', 'ISN', 'ISYMED'])\n",
    "df"
   ]
  },
  {
   "cell_type": "code",
   "execution_count": 62,
   "metadata": {
    "collapsed": false
   },
   "outputs": [
    {
     "data": {
      "text/html": [
       "<div>\n",
       "<table border=\"1\" class=\"dataframe\">\n",
       "  <thead>\n",
       "    <tr style=\"text-align: right;\">\n",
       "      <th></th>\n",
       "      <th>Code</th>\n",
       "      <th>Nom</th>\n",
       "      <th>Prenom</th>\n",
       "    </tr>\n",
       "  </thead>\n",
       "  <tbody>\n",
       "    <tr>\n",
       "      <th>0</th>\n",
       "      <td>ISN</td>\n",
       "      <td>Legoff</td>\n",
       "      <td>Justin</td>\n",
       "    </tr>\n",
       "    <tr>\n",
       "      <th>1</th>\n",
       "      <td>IAIR</td>\n",
       "      <td>Alexandre</td>\n",
       "      <td>Samy</td>\n",
       "    </tr>\n",
       "    <tr>\n",
       "      <th>2</th>\n",
       "      <td>ISYMED</td>\n",
       "      <td>Jouvin</td>\n",
       "      <td>Louis</td>\n",
       "    </tr>\n",
       "    <tr>\n",
       "      <th>3</th>\n",
       "      <td>BDTN</td>\n",
       "      <td>Olivier</td>\n",
       "      <td>Justin</td>\n",
       "    </tr>\n",
       "    <tr>\n",
       "      <th>4</th>\n",
       "      <td>BDTN</td>\n",
       "      <td>Drege</td>\n",
       "      <td>Pierre</td>\n",
       "    </tr>\n",
       "    <tr>\n",
       "      <th>5</th>\n",
       "      <td>BDTN</td>\n",
       "      <td>Chaudré</td>\n",
       "      <td>Adrien</td>\n",
       "    </tr>\n",
       "  </tbody>\n",
       "</table>\n",
       "</div>"
      ],
      "text/plain": [
       "     Code        Nom  Prenom\n",
       "0     ISN     Legoff  Justin\n",
       "1    IAIR  Alexandre    Samy\n",
       "2  ISYMED     Jouvin   Louis\n",
       "3    BDTN    Olivier  Justin\n",
       "4    BDTN      Drege  Pierre\n",
       "5    BDTN    Chaudré  Adrien"
      ]
     },
     "execution_count": 62,
     "metadata": {},
     "output_type": "execute_result"
    }
   ],
   "source": [
    "df3 = pd.DataFrame({ 'Nom' : ['Legoff', 'Alexandre', 'Jouvin','Olivier', 'Drege', 'Chaudré'],\n",
    "                     'Prenom' : ['Justin', 'Samy', 'Louis', 'Justin', 'Pierre', 'Adrien'],\n",
    "                     'Code' : [df.index[2], df.index[1], df.index[3], df.index[0], df.index[0], df.index[0]]})\n",
    "\n",
    "df3"
   ]
  },
  {
   "cell_type": "code",
   "execution_count": 68,
   "metadata": {
    "collapsed": false
   },
   "outputs": [
    {
     "data": {
      "text/plain": [
       "25.0"
      ]
     },
     "execution_count": 68,
     "metadata": {},
     "output_type": "execute_result"
    }
   ],
   "source": [
    "(len(df.loc[df['Departement'] == 'SEI'])*100)/4"
   ]
  },
  {
   "cell_type": "code",
   "execution_count": 69,
   "metadata": {
    "collapsed": false
   },
   "outputs": [
    {
     "data": {
      "text/html": [
       "<div>\n",
       "<table border=\"1\" class=\"dataframe\">\n",
       "  <thead>\n",
       "    <tr style=\"text-align: right;\">\n",
       "      <th></th>\n",
       "      <th>%</th>\n",
       "      <th>Code</th>\n",
       "    </tr>\n",
       "  </thead>\n",
       "  <tbody>\n",
       "    <tr>\n",
       "      <th>0</th>\n",
       "      <td>75.0</td>\n",
       "      <td>TIC</td>\n",
       "    </tr>\n",
       "    <tr>\n",
       "      <th>1</th>\n",
       "      <td>25.0</td>\n",
       "      <td>SEI</td>\n",
       "    </tr>\n",
       "  </tbody>\n",
       "</table>\n",
       "</div>"
      ],
      "text/plain": [
       "      % Code\n",
       "0  75.0  TIC\n",
       "1  25.0  SEI"
      ]
     },
     "execution_count": 69,
     "metadata": {},
     "output_type": "execute_result"
    }
   ],
   "source": [
    "pourcentage = pd.DataFrame({ '%' : [(len(df.loc[df['Departement'] == 'TIC'])*100)/4,\n",
    "                                    (len(df.loc[df['Departement'] == 'SEI'])*100)/4],\n",
    "                             'Code' : ['TIC', 'SEI']})\n",
    "\n",
    "pourcentage"
   ]
  },
  {
   "cell_type": "code",
   "execution_count": 79,
   "metadata": {
    "collapsed": false
   },
   "outputs": [],
   "source": [
    "pourcentage.to_csv('pourcentage.csv',sep='\\t')"
   ]
  },
  {
   "cell_type": "code",
   "execution_count": null,
   "metadata": {
    "collapsed": true
   },
   "outputs": [],
   "source": []
  }
 ],
 "metadata": {
  "anaconda-cloud": {},
  "kernelspec": {
   "display_name": "Python [default]",
   "language": "python",
   "name": "python3"
  },
  "language_info": {
   "codemirror_mode": {
    "name": "ipython",
    "version": 3
   },
   "file_extension": ".py",
   "mimetype": "text/x-python",
   "name": "python",
   "nbconvert_exporter": "python",
   "pygments_lexer": "ipython3",
   "version": "3.5.2"
  }
 },
 "nbformat": 4,
 "nbformat_minor": 1
}
